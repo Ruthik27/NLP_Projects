{
 "cells": [
  {
   "cell_type": "code",
   "execution_count": 1,
   "metadata": {},
   "outputs": [
    {
     "name": "stdout",
     "output_type": "stream",
     "text": [
      "Requirement already satisfied: nltk in /home/perman/anaconda3/envs/Data_Science/lib/python3.9/site-packages (3.6.2)\n",
      "Requirement already satisfied: regex in /home/perman/anaconda3/envs/Data_Science/lib/python3.9/site-packages (from nltk) (2021.7.6)\n",
      "Requirement already satisfied: joblib in /home/perman/anaconda3/envs/Data_Science/lib/python3.9/site-packages (from nltk) (1.0.1)\n",
      "Requirement already satisfied: tqdm in /home/perman/anaconda3/envs/Data_Science/lib/python3.9/site-packages (from nltk) (4.61.2)\n",
      "Requirement already satisfied: click in /home/perman/anaconda3/envs/Data_Science/lib/python3.9/site-packages (from nltk) (8.0.1)\n",
      "Note: you may need to restart the kernel to use updated packages.\n"
     ]
    }
   ],
   "source": [
    "pip install --user -U nltk"
   ]
  },
  {
   "cell_type": "code",
   "execution_count": 2,
   "metadata": {},
   "outputs": [],
   "source": [
    "import os\n",
    "import nltk\n",
    "import nltk.corpus"
   ]
  },
  {
   "cell_type": "code",
   "execution_count": 3,
   "metadata": {},
   "outputs": [
    {
     "name": "stdout",
     "output_type": "stream",
     "text": [
      "showing info https://raw.githubusercontent.com/nltk/nltk_data/gh-pages/index.xml\n"
     ]
    },
    {
     "data": {
      "text/plain": [
       "True"
      ]
     },
     "execution_count": 3,
     "metadata": {},
     "output_type": "execute_result"
    }
   ],
   "source": [
    "#nltk.download()"
   ]
  },
  {
   "cell_type": "code",
   "execution_count": 4,
   "metadata": {},
   "outputs": [
    {
     "name": "stdout",
     "output_type": "stream",
     "text": [
      "['mac_morpho', 'rte.zip', 'dependency_treebank', 'alpino', 'paradigms.zip', 'shakespeare.zip', 'alpino.zip', 'verbnet.zip', 'timit', 'kimmo', 'swadesh', 'cess_cat', 'ppattach.zip', 'nonbreaking_prefixes', 'pros_cons.zip', 'nps_chat.zip', 'comparative_sentences.zip', 'opinion_lexicon', 'words.zip', 'nombank.1.0.zip', 'opinion_lexicon.zip', 'indian.zip', 'crubadan.zip', 'genesis', 'sinica_treebank', 'chat80.zip', 'twitter_samples.zip', 'ycoe', 'knbc.zip', 'udhr2', 'abc.zip', 'mte_teip5', 'framenet_v17.zip', 'names', 'shakespeare', 'framenet_v15.zip', 'conll2007.zip', 'state_union.zip', 'senseval.zip', 'words', 'reuters.zip', 'brown.zip', 'brown_tei', 'udhr.zip', 'abc', 'lin_thesaurus.zip', 'inaugural.zip', 'webtext.zip', 'ppattach', 'crubadan', 'mte_teip5.zip', 'cess_esp.zip', 'product_reviews_1', 'smultron.zip', 'wordnet', 'sentence_polarity', 'brown', 'framenet_v15', 'nps_chat', 'product_reviews_1.zip', 'comtrans.zip', 'toolbox.zip', 'omw', 'unicode_samples', 'twitter_samples', 'europarl_raw.zip', 'jeita.zip', 'conll2002', 'sinica_treebank.zip', 'cmudict.zip', 'cess_esp', 'comparative_sentences', 'toolbox', 'conll2002.zip', 'nonbreaking_prefixes.zip', 'gutenberg.zip', 'biocreative_ppi.zip', 'unicode_samples.zip', 'treebank', 'pl196x', 'pil', 'stopwords', 'gazetteers.zip', 'paradigms', 'universal_treebanks_v20.zip', 'dolch', 'names.zip', 'ycoe.zip', 'smultron', 'sentiwordnet.zip', 'subjectivity.zip', 'floresta', 'conll2000', 'udhr2.zip', 'udhr', 'city_database.zip', 'wordnet_ic', 'europarl_raw', 'ptb.zip', 'masc_tagged.zip', 'floresta.zip', 'product_reviews_2.zip', 'treebank.zip', 'pros_cons', 'problem_reports', 'stopwords.zip', 'genesis.zip', 'omw.zip', 'state_union', 'biocreative_ppi', 'chat80', 'verbnet3.zip', 'switchboard.zip', 'movie_reviews', 'panlex_swadesh.zip', 'kimmo.zip', 'swadesh.zip', 'gutenberg', 'switchboard', 'cess_cat.zip', 'inaugural', 'ptb', 'dolch.zip', 'semcor.zip', 'gazetteers', 'problem_reports.zip', 'ieer.zip', 'timit.zip', 'cmudict', 'rte', 'senseval', 'verbnet', 'webtext', 'sentence_polarity.zip', 'framenet_v17', 'wordnet.zip', 'movie_reviews.zip', 'subjectivity', 'propbank.zip', 'conll2000.zip', 'product_reviews_2', 'qc.zip', 'lin_thesaurus', 'ieer', 'mac_morpho.zip', 'qc', 'brown_tei.zip', 'sentiwordnet', 'pil.zip', 'machado.zip', 'city_database', 'indian', 'wordnet_ic.zip', 'pl196x.zip', 'dependency_treebank.zip', 'verbnet3']\n"
     ]
    }
   ],
   "source": [
    "print(os.listdir(nltk.data.find(\"corpora\")))"
   ]
  },
  {
   "cell_type": "code",
   "execution_count": 5,
   "metadata": {},
   "outputs": [
    {
     "data": {
      "text/plain": [
       "['The', 'Fulton', 'County', 'Grand', 'Jury', 'said', ...]"
      ]
     },
     "execution_count": 5,
     "metadata": {},
     "output_type": "execute_result"
    }
   ],
   "source": [
    "from nltk.corpus import brown\n",
    "brown.words()"
   ]
  },
  {
   "cell_type": "code",
   "execution_count": 6,
   "metadata": {},
   "outputs": [
    {
     "data": {
      "text/plain": [
       "['austen-emma.txt',\n",
       " 'austen-persuasion.txt',\n",
       " 'austen-sense.txt',\n",
       " 'bible-kjv.txt',\n",
       " 'blake-poems.txt',\n",
       " 'bryant-stories.txt',\n",
       " 'burgess-busterbrown.txt',\n",
       " 'carroll-alice.txt',\n",
       " 'chesterton-ball.txt',\n",
       " 'chesterton-brown.txt',\n",
       " 'chesterton-thursday.txt',\n",
       " 'edgeworth-parents.txt',\n",
       " 'melville-moby_dick.txt',\n",
       " 'milton-paradise.txt',\n",
       " 'shakespeare-caesar.txt',\n",
       " 'shakespeare-hamlet.txt',\n",
       " 'shakespeare-macbeth.txt',\n",
       " 'whitman-leaves.txt']"
      ]
     },
     "execution_count": 6,
     "metadata": {},
     "output_type": "execute_result"
    }
   ],
   "source": [
    "nltk.corpus.gutenberg.fileids()"
   ]
  },
  {
   "cell_type": "code",
   "execution_count": 7,
   "metadata": {},
   "outputs": [
    {
     "data": {
      "text/plain": [
       "['[', 'The', 'Tragedie', 'of', 'Hamlet', 'by', ...]"
      ]
     },
     "execution_count": 7,
     "metadata": {},
     "output_type": "execute_result"
    }
   ],
   "source": [
    "hamlet = nltk.corpus.gutenberg.words('shakespeare-hamlet.txt')\n",
    "hamlet"
   ]
  },
  {
   "cell_type": "code",
   "execution_count": 8,
   "metadata": {
    "scrolled": true
   },
   "outputs": [
    {
     "name": "stdout",
     "output_type": "stream",
     "text": [
      "[ The Tragedie of Hamlet by William Shakespeare 1599 ] Actus Primus . Scoena Prima . Enter Barnardo and Francisco two Centinels . Barnardo . Who ' s there ? Fran . Nay answer me : Stand & vnfold your selfe Bar . Long liue the King Fran . Barnardo ? Bar . He Fran . You come most carefully vpon your houre Bar . ' Tis now strook twelue , get thee to bed Francisco Fran . For this releefe much thankes : ' Tis bitter cold , And I am sicke at heart Barn . Haue you had quiet Guard ? Fran . Not a Mouse stirring Barn . Well , goodnight . If you do meet Horatio and Marcellus , the Riuals of my Watch , bid them make hast . Enter Horatio and Marcellus . Fran . I thinke I heare them . Stand : who ' s there ? Hor . Friends to this ground Mar . And Leige - men to the Dane Fran . Giue you good night Mar . O farwel honest Soldier , who hath relieu ' d you ? Fra . Barnardo ha ' s my place : giue you goodnight . Exit Fran . Mar . Holla Barnardo Bar . Say , what is Horatio there ? Hor . A peece of him Bar . Welcome Horatio , welcome good Marcellus Mar . What , ha ' s this thing appear ' d againe to night Bar . I haue seene nothing Mar . Horatio saies , ' tis but our Fantasie , And will not let beleefe take hold of him Touching this dreaded sight , twice seene of vs , Therefore I haue intreated him along With vs , to watch the minutes of this Night , That if againe this Apparition come , He may approue our eyes , and speake to it Hor . Tush , tush , ' twill not appeare Bar . Sit downe a - while , And let vs once againe assaile your eares , That are so fortified against our Story , What we two Nights haue seene Hor . Well , sit we downe , And let vs heare Barnardo speake of this Barn . Last night of all , When yond same Starre that ' s Westward from the Pole Had made his course t ' illume that part of Heauen Where now it burnes , Marcellus and my selfe , The Bell then beating one Mar . Peace , breake thee of : Enter the Ghost . Looke where it comes againe Barn . In the same figure , like the King that ' s dead Mar . Thou art a Scholler ; speake to it Horatio Barn . Lookes it not like the King ? Marke it Horatio Hora . Most like : It harrowes me with fear & wonder Barn . It would be spoke too Mar . Question it Horatio Hor . What art "
     ]
    }
   ],
   "source": [
    "for words in hamlet[:500]:\n",
    "    print(words ,sep = ' ', end = ' ')"
   ]
  },
  {
   "cell_type": "code",
   "execution_count": 54,
   "metadata": {},
   "outputs": [],
   "source": [
    "azure = \"\"\"Microsoft Azure has taken a large chunk of the cloud marketplace, transforming companies with the speed and security of the cloud. Microsoft has over the years used Azure to cushion companies against risk, deal with fraud and differentiate their customer experience.\n",
    "\n",
    "With Microsoft Cloud App Security, customers experience 75% automatic threat elimination because of increased visibility and automated threat protection. With all these and more amazing benefits of using Azure, its market share is bound to increase even more over the coming years.\n",
    "\n",
    "Financial companies have not been left behind by the Azure bandwagon. The financial industry is using Microsoft Azure to enhance its core functions— invest money by making informed decisions, and minimize risk while maximizing returns.\n",
    "\n",
    "Azure facilitates these core functions by helping with the storage of huge amounts of data—  some dating back to decades ago—, data retrieval and data security.\n",
    "\n",
    "It also helps financial companies to keep up with regulatory compliance.\n",
    "\n",
    "Microsoft Azure is not the only cloud services provider. But here’s why it is the most outstanding when it comes to helping financial companies achieve their business goals.\n",
    "\n",
    "The financial services industry is extremely dynamic. Organizations offering financial services have to constantly test the market and come up with new and innovative products and services.\n",
    "\n",
    "They are also often under pressure to extend their services across borders. Remember they have to do all of this while at the same time managing their existing customers, containing their risk, and dealing with fraud.\n",
    "\n",
    "Financial regulations also keep changing. As financial companies increasingly embrace new technology for their services— including intelligent cloud computing— and they have to comply with industry regulations. They cannot afford to leave loopholes as they take on their journey with the cloud.\n",
    "\n",
    "The financial services industry is highly competitive and keeps up with modernity. These companies have had to resort to the dynamic hybrid, multi-cloud computing, and public cloud strategies to keep up with the trend.\n",
    "\n",
    "This is how a hybrid cloud model works— it enables existing on-premises applications to be extended through a connection to the public cloud.\n",
    "\n",
    "This allows financial companies to enjoy the speed, elasticity, and scale of the public cloud without necessarily having to remodel their entire applications. These organizations are afforded the flexibility of deciding what parts of their application remains in an existing data center and which one resides in the cloud.\n",
    "\n",
    "Cloud computing with Azure allows financial organizations to operate more efficiently by providing end-to-end protection to information, allowing the digitization of financial services, and providing data security.\n",
    "\n",
    "Data security is particularly important to financial firms because they are often targeted by fraudsters and cyber threats. They, therefore, need to protect crucial information which they achieve by authenticating their data centers using Azure.\"\"\""
   ]
  },
  {
   "cell_type": "code",
   "execution_count": 55,
   "metadata": {},
   "outputs": [
    {
     "data": {
      "text/plain": [
       "str"
      ]
     },
     "execution_count": 55,
     "metadata": {},
     "output_type": "execute_result"
    }
   ],
   "source": [
    "type(azure)"
   ]
  },
  {
   "cell_type": "code",
   "execution_count": 56,
   "metadata": {},
   "outputs": [],
   "source": [
    "from nltk.tokenize import word_tokenize"
   ]
  },
  {
   "cell_type": "code",
   "execution_count": 57,
   "metadata": {},
   "outputs": [
    {
     "data": {
      "text/plain": [
       "['Microsoft',\n",
       " 'Azure',\n",
       " 'has',\n",
       " 'taken',\n",
       " 'a',\n",
       " 'large',\n",
       " 'chunk',\n",
       " 'of',\n",
       " 'the',\n",
       " 'cloud',\n",
       " 'marketplace',\n",
       " ',',\n",
       " 'transforming',\n",
       " 'companies',\n",
       " 'with',\n",
       " 'the',\n",
       " 'speed',\n",
       " 'and',\n",
       " 'security',\n",
       " 'of',\n",
       " 'the',\n",
       " 'cloud',\n",
       " '.',\n",
       " 'Microsoft',\n",
       " 'has',\n",
       " 'over',\n",
       " 'the',\n",
       " 'years',\n",
       " 'used',\n",
       " 'Azure',\n",
       " 'to',\n",
       " 'cushion',\n",
       " 'companies',\n",
       " 'against',\n",
       " 'risk',\n",
       " ',',\n",
       " 'deal',\n",
       " 'with',\n",
       " 'fraud',\n",
       " 'and',\n",
       " 'differentiate',\n",
       " 'their',\n",
       " 'customer',\n",
       " 'experience',\n",
       " '.',\n",
       " 'With',\n",
       " 'Microsoft',\n",
       " 'Cloud',\n",
       " 'App',\n",
       " 'Security',\n",
       " ',',\n",
       " 'customers',\n",
       " 'experience',\n",
       " '75',\n",
       " '%',\n",
       " 'automatic',\n",
       " 'threat',\n",
       " 'elimination',\n",
       " 'because',\n",
       " 'of',\n",
       " 'increased',\n",
       " 'visibility',\n",
       " 'and',\n",
       " 'automated',\n",
       " 'threat',\n",
       " 'protection',\n",
       " '.',\n",
       " 'With',\n",
       " 'all',\n",
       " 'these',\n",
       " 'and',\n",
       " 'more',\n",
       " 'amazing',\n",
       " 'benefits',\n",
       " 'of',\n",
       " 'using',\n",
       " 'Azure',\n",
       " ',',\n",
       " 'its',\n",
       " 'market',\n",
       " 'share',\n",
       " 'is',\n",
       " 'bound',\n",
       " 'to',\n",
       " 'increase',\n",
       " 'even',\n",
       " 'more',\n",
       " 'over',\n",
       " 'the',\n",
       " 'coming',\n",
       " 'years',\n",
       " '.',\n",
       " 'Financial',\n",
       " 'companies',\n",
       " 'have',\n",
       " 'not',\n",
       " 'been',\n",
       " 'left',\n",
       " 'behind',\n",
       " 'by',\n",
       " 'the',\n",
       " 'Azure',\n",
       " 'bandwagon',\n",
       " '.',\n",
       " 'The',\n",
       " 'financial',\n",
       " 'industry',\n",
       " 'is',\n",
       " 'using',\n",
       " 'Microsoft',\n",
       " 'Azure',\n",
       " 'to',\n",
       " 'enhance',\n",
       " 'its',\n",
       " 'core',\n",
       " 'functions—',\n",
       " 'invest',\n",
       " 'money',\n",
       " 'by',\n",
       " 'making',\n",
       " 'informed',\n",
       " 'decisions',\n",
       " ',',\n",
       " 'and',\n",
       " 'minimize',\n",
       " 'risk',\n",
       " 'while',\n",
       " 'maximizing',\n",
       " 'returns',\n",
       " '.',\n",
       " 'Azure',\n",
       " 'facilitates',\n",
       " 'these',\n",
       " 'core',\n",
       " 'functions',\n",
       " 'by',\n",
       " 'helping',\n",
       " 'with',\n",
       " 'the',\n",
       " 'storage',\n",
       " 'of',\n",
       " 'huge',\n",
       " 'amounts',\n",
       " 'of',\n",
       " 'data—',\n",
       " 'some',\n",
       " 'dating',\n",
       " 'back',\n",
       " 'to',\n",
       " 'decades',\n",
       " 'ago—',\n",
       " ',',\n",
       " 'data',\n",
       " 'retrieval',\n",
       " 'and',\n",
       " 'data',\n",
       " 'security',\n",
       " '.',\n",
       " 'It',\n",
       " 'also',\n",
       " 'helps',\n",
       " 'financial',\n",
       " 'companies',\n",
       " 'to',\n",
       " 'keep',\n",
       " 'up',\n",
       " 'with',\n",
       " 'regulatory',\n",
       " 'compliance',\n",
       " '.',\n",
       " 'Microsoft',\n",
       " 'Azure',\n",
       " 'is',\n",
       " 'not',\n",
       " 'the',\n",
       " 'only',\n",
       " 'cloud',\n",
       " 'services',\n",
       " 'provider',\n",
       " '.',\n",
       " 'But',\n",
       " 'here',\n",
       " '’',\n",
       " 's',\n",
       " 'why',\n",
       " 'it',\n",
       " 'is',\n",
       " 'the',\n",
       " 'most',\n",
       " 'outstanding',\n",
       " 'when',\n",
       " 'it',\n",
       " 'comes',\n",
       " 'to',\n",
       " 'helping',\n",
       " 'financial',\n",
       " 'companies',\n",
       " 'achieve',\n",
       " 'their',\n",
       " 'business',\n",
       " 'goals',\n",
       " '.',\n",
       " 'The',\n",
       " 'financial',\n",
       " 'services',\n",
       " 'industry',\n",
       " 'is',\n",
       " 'extremely',\n",
       " 'dynamic',\n",
       " '.',\n",
       " 'Organizations',\n",
       " 'offering',\n",
       " 'financial',\n",
       " 'services',\n",
       " 'have',\n",
       " 'to',\n",
       " 'constantly',\n",
       " 'test',\n",
       " 'the',\n",
       " 'market',\n",
       " 'and',\n",
       " 'come',\n",
       " 'up',\n",
       " 'with',\n",
       " 'new',\n",
       " 'and',\n",
       " 'innovative',\n",
       " 'products',\n",
       " 'and',\n",
       " 'services',\n",
       " '.',\n",
       " 'They',\n",
       " 'are',\n",
       " 'also',\n",
       " 'often',\n",
       " 'under',\n",
       " 'pressure',\n",
       " 'to',\n",
       " 'extend',\n",
       " 'their',\n",
       " 'services',\n",
       " 'across',\n",
       " 'borders',\n",
       " '.',\n",
       " 'Remember',\n",
       " 'they',\n",
       " 'have',\n",
       " 'to',\n",
       " 'do',\n",
       " 'all',\n",
       " 'of',\n",
       " 'this',\n",
       " 'while',\n",
       " 'at',\n",
       " 'the',\n",
       " 'same',\n",
       " 'time',\n",
       " 'managing',\n",
       " 'their',\n",
       " 'existing',\n",
       " 'customers',\n",
       " ',',\n",
       " 'containing',\n",
       " 'their',\n",
       " 'risk',\n",
       " ',',\n",
       " 'and',\n",
       " 'dealing',\n",
       " 'with',\n",
       " 'fraud',\n",
       " '.',\n",
       " 'Financial',\n",
       " 'regulations',\n",
       " 'also',\n",
       " 'keep',\n",
       " 'changing',\n",
       " '.',\n",
       " 'As',\n",
       " 'financial',\n",
       " 'companies',\n",
       " 'increasingly',\n",
       " 'embrace',\n",
       " 'new',\n",
       " 'technology',\n",
       " 'for',\n",
       " 'their',\n",
       " 'services—',\n",
       " 'including',\n",
       " 'intelligent',\n",
       " 'cloud',\n",
       " 'computing—',\n",
       " 'and',\n",
       " 'they',\n",
       " 'have',\n",
       " 'to',\n",
       " 'comply',\n",
       " 'with',\n",
       " 'industry',\n",
       " 'regulations',\n",
       " '.',\n",
       " 'They',\n",
       " 'can',\n",
       " 'not',\n",
       " 'afford',\n",
       " 'to',\n",
       " 'leave',\n",
       " 'loopholes',\n",
       " 'as',\n",
       " 'they',\n",
       " 'take',\n",
       " 'on',\n",
       " 'their',\n",
       " 'journey',\n",
       " 'with',\n",
       " 'the',\n",
       " 'cloud',\n",
       " '.',\n",
       " 'The',\n",
       " 'financial',\n",
       " 'services',\n",
       " 'industry',\n",
       " 'is',\n",
       " 'highly',\n",
       " 'competitive',\n",
       " 'and',\n",
       " 'keeps',\n",
       " 'up',\n",
       " 'with',\n",
       " 'modernity',\n",
       " '.',\n",
       " 'These',\n",
       " 'companies',\n",
       " 'have',\n",
       " 'had',\n",
       " 'to',\n",
       " 'resort',\n",
       " 'to',\n",
       " 'the',\n",
       " 'dynamic',\n",
       " 'hybrid',\n",
       " ',',\n",
       " 'multi-cloud',\n",
       " 'computing',\n",
       " ',',\n",
       " 'and',\n",
       " 'public',\n",
       " 'cloud',\n",
       " 'strategies',\n",
       " 'to',\n",
       " 'keep',\n",
       " 'up',\n",
       " 'with',\n",
       " 'the',\n",
       " 'trend',\n",
       " '.',\n",
       " 'This',\n",
       " 'is',\n",
       " 'how',\n",
       " 'a',\n",
       " 'hybrid',\n",
       " 'cloud',\n",
       " 'model',\n",
       " 'works—',\n",
       " 'it',\n",
       " 'enables',\n",
       " 'existing',\n",
       " 'on-premises',\n",
       " 'applications',\n",
       " 'to',\n",
       " 'be',\n",
       " 'extended',\n",
       " 'through',\n",
       " 'a',\n",
       " 'connection',\n",
       " 'to',\n",
       " 'the',\n",
       " 'public',\n",
       " 'cloud',\n",
       " '.',\n",
       " 'This',\n",
       " 'allows',\n",
       " 'financial',\n",
       " 'companies',\n",
       " 'to',\n",
       " 'enjoy',\n",
       " 'the',\n",
       " 'speed',\n",
       " ',',\n",
       " 'elasticity',\n",
       " ',',\n",
       " 'and',\n",
       " 'scale',\n",
       " 'of',\n",
       " 'the',\n",
       " 'public',\n",
       " 'cloud',\n",
       " 'without',\n",
       " 'necessarily',\n",
       " 'having',\n",
       " 'to',\n",
       " 'remodel',\n",
       " 'their',\n",
       " 'entire',\n",
       " 'applications',\n",
       " '.',\n",
       " 'These',\n",
       " 'organizations',\n",
       " 'are',\n",
       " 'afforded',\n",
       " 'the',\n",
       " 'flexibility',\n",
       " 'of',\n",
       " 'deciding',\n",
       " 'what',\n",
       " 'parts',\n",
       " 'of',\n",
       " 'their',\n",
       " 'application',\n",
       " 'remains',\n",
       " 'in',\n",
       " 'an',\n",
       " 'existing',\n",
       " 'data',\n",
       " 'center',\n",
       " 'and',\n",
       " 'which',\n",
       " 'one',\n",
       " 'resides',\n",
       " 'in',\n",
       " 'the',\n",
       " 'cloud',\n",
       " '.',\n",
       " 'Cloud',\n",
       " 'computing',\n",
       " 'with',\n",
       " 'Azure',\n",
       " 'allows',\n",
       " 'financial',\n",
       " 'organizations',\n",
       " 'to',\n",
       " 'operate',\n",
       " 'more',\n",
       " 'efficiently',\n",
       " 'by',\n",
       " 'providing',\n",
       " 'end-to-end',\n",
       " 'protection',\n",
       " 'to',\n",
       " 'information',\n",
       " ',',\n",
       " 'allowing',\n",
       " 'the',\n",
       " 'digitization',\n",
       " 'of',\n",
       " 'financial',\n",
       " 'services',\n",
       " ',',\n",
       " 'and',\n",
       " 'providing',\n",
       " 'data',\n",
       " 'security',\n",
       " '.',\n",
       " 'Data',\n",
       " 'security',\n",
       " 'is',\n",
       " 'particularly',\n",
       " 'important',\n",
       " 'to',\n",
       " 'financial',\n",
       " 'firms',\n",
       " 'because',\n",
       " 'they',\n",
       " 'are',\n",
       " 'often',\n",
       " 'targeted',\n",
       " 'by',\n",
       " 'fraudsters',\n",
       " 'and',\n",
       " 'cyber',\n",
       " 'threats',\n",
       " '.',\n",
       " 'They',\n",
       " ',',\n",
       " 'therefore',\n",
       " ',',\n",
       " 'need',\n",
       " 'to',\n",
       " 'protect',\n",
       " 'crucial',\n",
       " 'information',\n",
       " 'which',\n",
       " 'they',\n",
       " 'achieve',\n",
       " 'by',\n",
       " 'authenticating',\n",
       " 'their',\n",
       " 'data',\n",
       " 'centers',\n",
       " 'using',\n",
       " 'Azure',\n",
       " '.']"
      ]
     },
     "execution_count": 57,
     "metadata": {},
     "output_type": "execute_result"
    }
   ],
   "source": [
    "azure_tokens = word_tokenize(azure)\n",
    "azure_tokens"
   ]
  },
  {
   "cell_type": "code",
   "execution_count": 58,
   "metadata": {},
   "outputs": [
    {
     "data": {
      "text/plain": [
       "501"
      ]
     },
     "execution_count": 58,
     "metadata": {},
     "output_type": "execute_result"
    }
   ],
   "source": [
    "len(azure_tokens)"
   ]
  },
  {
   "cell_type": "code",
   "execution_count": 59,
   "metadata": {},
   "outputs": [],
   "source": [
    "from nltk.probability import FreqDist\n",
    "fdist = FreqDist()"
   ]
  },
  {
   "cell_type": "code",
   "execution_count": 60,
   "metadata": {},
   "outputs": [
    {
     "data": {
      "text/plain": [
       "FreqDist({'.': 25, 'the': 23, 'to': 22, 'and': 17, ',': 16, 'with': 13, 'financial': 13, 'cloud': 12, 'of': 11, 'their': 10, ...})"
      ]
     },
     "execution_count": 60,
     "metadata": {},
     "output_type": "execute_result"
    }
   ],
   "source": [
    "for word in azure_tokens:\n",
    "    fdist[word.lower()]+=1\n",
    "fdist"
   ]
  },
  {
   "cell_type": "code",
   "execution_count": 61,
   "metadata": {},
   "outputs": [
    {
     "data": {
      "text/plain": [
       "nltk.probability.FreqDist"
      ]
     },
     "execution_count": 61,
     "metadata": {},
     "output_type": "execute_result"
    }
   ],
   "source": [
    "type(fdist)"
   ]
  },
  {
   "cell_type": "code",
   "execution_count": 62,
   "metadata": {},
   "outputs": [
    {
     "data": {
      "text/plain": [
       "226"
      ]
     },
     "execution_count": 62,
     "metadata": {},
     "output_type": "execute_result"
    }
   ],
   "source": [
    "len(fdist)"
   ]
  },
  {
   "cell_type": "code",
   "execution_count": 63,
   "metadata": {},
   "outputs": [
    {
     "data": {
      "text/plain": [
       "[('.', 25),\n",
       " ('the', 23),\n",
       " ('to', 22),\n",
       " ('and', 17),\n",
       " (',', 16),\n",
       " ('with', 13),\n",
       " ('financial', 13),\n",
       " ('cloud', 12),\n",
       " ('of', 11),\n",
       " ('their', 10)]"
      ]
     },
     "execution_count": 63,
     "metadata": {},
     "output_type": "execute_result"
    }
   ],
   "source": [
    "fdist_top10 = fdist.most_common(10)\n",
    "fdist_top10"
   ]
  },
  {
   "cell_type": "code",
   "execution_count": 68,
   "metadata": {},
   "outputs": [
    {
     "data": {
      "text/plain": [
       "14"
      ]
     },
     "execution_count": 68,
     "metadata": {},
     "output_type": "execute_result"
    }
   ],
   "source": [
    "from nltk.tokenize import blankline_tokenize\n",
    "azure_blank = blankline_tokenize(azure)\n",
    "len(azure_blank)"
   ]
  },
  {
   "cell_type": "code",
   "execution_count": 69,
   "metadata": {},
   "outputs": [
    {
     "data": {
      "text/plain": [
       "'Financial companies have not been left behind by the Azure bandwagon. The financial industry is using Microsoft Azure to enhance its core functions— invest money by making informed decisions, and minimize risk while maximizing returns.'"
      ]
     },
     "execution_count": 69,
     "metadata": {},
     "output_type": "execute_result"
    }
   ],
   "source": [
    "azure_blank[2]"
   ]
  },
  {
   "cell_type": "code",
   "execution_count": null,
   "metadata": {},
   "outputs": [],
   "source": []
  }
 ],
 "metadata": {
  "kernelspec": {
   "display_name": "Data_Science",
   "language": "python",
   "name": "data_science"
  },
  "language_info": {
   "codemirror_mode": {
    "name": "ipython",
    "version": 3
   },
   "file_extension": ".py",
   "mimetype": "text/x-python",
   "name": "python",
   "nbconvert_exporter": "python",
   "pygments_lexer": "ipython3",
   "version": "3.9.5"
  }
 },
 "nbformat": 4,
 "nbformat_minor": 4
}
